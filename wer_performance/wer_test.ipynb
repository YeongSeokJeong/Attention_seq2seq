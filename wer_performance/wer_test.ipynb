{
 "cells": [
  {
   "cell_type": "code",
   "execution_count": 6,
   "metadata": {},
   "outputs": [],
   "source": [
    "\n",
    "\n",
    "with open(\"./kkma_data/train_input_data_1.pickle\", \"rb\") as fr:\n",
    "    train_input_tokens = pickle.load(fr)\n",
    "\n",
    "with open(\"./kkma_data/train_output_data_1.pickle\", 'rb') as fr:\n",
    "    train_output_tokens = pickle.load(fr)\n",
    "\n",
    "with open('./kkma_data/val_input_tokens_1.pickle', 'rb') as fr:\n",
    "    val_input_tokens = pickle.load(fr)\n",
    "\n",
    "with open('./kkma_data/val_output_tokens_1.pickle', 'rb') as fr:\n",
    "    val_output_tokens = pickle.load(fr) \n",
    "\n",
    "with open('./kkma_data/test_input_tokens_1.pickle', 'rb') as fr:\n",
    "    test_input_tokens = pickle.load(fr)\n",
    "\n",
    "with open('./kkma_data/test_output_tokens_1.pickle', 'rb') as fr:\n",
    "    test_output_tokens = pickle.load(fr)\n",
    "\n",
    "with open('./kkma_data/input_vocab_1.pickle', 'rb') as fr:\n",
    "    input_vocab = pickle.load(fr)\n",
    "\n",
    "with open('./kkma_data/output_vocab_1.pickle', 'rb') as fr:\n",
    "    output_vocab = pickle.load(fr)"
   ]
  },
  {
   "cell_type": "code",
   "execution_count": 7,
   "metadata": {},
   "outputs": [],
   "source": [
    "wer_ref_token = [[input_vocab[word] for word in sentence if word not in [0, 1, 2]] for sentence in test_input_tokens]\n",
    "wer_hyp_token = [[output_vocab[word] for word in sentence if word not in [0, 1, 2]] for sentence in test_output_tokens]"
   ]
  },
  {
   "cell_type": "code",
   "execution_count": 8,
   "metadata": {},
   "outputs": [
    {
     "name": "stdout",
     "output_type": "stream",
     "text": [
      "['그', 'ㄴ데', '만약', '에', '자리', '가', '있', '어도', '빼', '는', '거', '돕', '아', '주', '어야', '되', 'ㄴ다는', '그', '어야']\n",
      "['그', 'ㄴ데', '만약', '에', '자리', '가', '있', '어도', '빼', '는', '거', '도와주', '어야', '되', 'ㄴ다는', '그', '어야']\n"
     ]
    }
   ],
   "source": [
    "print(wer_ref_token[0])\n",
    "print(wer_hyp_token[0])"
   ]
  },
  {
   "cell_type": "code",
   "execution_count": 9,
   "metadata": {},
   "outputs": [],
   "source": [
    "import pandas as pd\n",
    "import numpy as np\n",
    "from tensorflow.keras.preprocessing.sequence import pad_sequences\n",
    "import tensorflow as tf\n",
    "import time\n",
    "from tensorflow.keras.layers import *\n",
    "from tensorflow.keras import Model\n",
    "import pickle\n",
    "from nltk.translate.bleu_score import sentence_bleu\n",
    "import os\n",
    "from wer import *"
   ]
  },
  {
   "cell_type": "code",
   "execution_count": 10,
   "metadata": {},
   "outputs": [
    {
     "ename": "KeyboardInterrupt",
     "evalue": "",
     "output_type": "error",
     "traceback": [
      "\u001b[1;31m---------------------------------------------------------------------------\u001b[0m",
      "\u001b[1;31mKeyboardInterrupt\u001b[0m                         Traceback (most recent call last)",
      "\u001b[1;32m<ipython-input-10-cb4af2e2cca3>\u001b[0m in \u001b[0;36m<module>\u001b[1;34m\u001b[0m\n\u001b[0;32m      1\u001b[0m \u001b[0mk\u001b[0m \u001b[1;33m=\u001b[0m \u001b[1;36m0\u001b[0m\u001b[1;33m\u001b[0m\u001b[1;33m\u001b[0m\u001b[0m\n\u001b[0;32m      2\u001b[0m \u001b[1;32mfor\u001b[0m \u001b[0mi\u001b[0m \u001b[1;32min\u001b[0m \u001b[0mrange\u001b[0m\u001b[1;33m(\u001b[0m\u001b[0mlen\u001b[0m\u001b[1;33m(\u001b[0m\u001b[0mwer_ref_token\u001b[0m\u001b[1;33m)\u001b[0m\u001b[1;33m)\u001b[0m\u001b[1;33m:\u001b[0m\u001b[1;33m\u001b[0m\u001b[1;33m\u001b[0m\u001b[0m\n\u001b[1;32m----> 3\u001b[1;33m     \u001b[0mk\u001b[0m \u001b[1;33m+=\u001b[0m \u001b[0mwer\u001b[0m\u001b[1;33m(\u001b[0m\u001b[0mwer_ref_token\u001b[0m\u001b[1;33m[\u001b[0m\u001b[1;36m0\u001b[0m\u001b[1;33m]\u001b[0m\u001b[1;33m,\u001b[0m \u001b[0mwer_hyp_token\u001b[0m\u001b[1;33m[\u001b[0m\u001b[1;36m0\u001b[0m\u001b[1;33m]\u001b[0m\u001b[1;33m)\u001b[0m\u001b[1;33m\u001b[0m\u001b[1;33m\u001b[0m\u001b[0m\n\u001b[0m\u001b[0;32m      4\u001b[0m \u001b[0mprint\u001b[0m\u001b[1;33m(\u001b[0m\u001b[0mk\u001b[0m\u001b[1;33m/\u001b[0m\u001b[0mlen\u001b[0m\u001b[1;33m(\u001b[0m\u001b[0mwer_ref_token\u001b[0m\u001b[1;33m)\u001b[0m\u001b[1;33m)\u001b[0m\u001b[1;33m\u001b[0m\u001b[1;33m\u001b[0m\u001b[0m\n",
      "\u001b[1;32mC:\\Python\\Source\\bert\\bert\\wer.py\u001b[0m in \u001b[0;36mwer\u001b[1;34m(r, h)\u001b[0m\n\u001b[0;32m    183\u001b[0m     \"\"\"\n\u001b[0;32m    184\u001b[0m     \u001b[1;31m# build the matrix\u001b[0m\u001b[1;33m\u001b[0m\u001b[1;33m\u001b[0m\u001b[1;33m\u001b[0m\u001b[0m\n\u001b[1;32m--> 185\u001b[1;33m     \u001b[0md\u001b[0m \u001b[1;33m=\u001b[0m \u001b[0meditDistance\u001b[0m\u001b[1;33m(\u001b[0m\u001b[0mr\u001b[0m\u001b[1;33m,\u001b[0m \u001b[0mh\u001b[0m\u001b[1;33m)\u001b[0m\u001b[1;33m\u001b[0m\u001b[1;33m\u001b[0m\u001b[0m\n\u001b[0m\u001b[0;32m    186\u001b[0m \u001b[1;33m\u001b[0m\u001b[0m\n\u001b[0;32m    187\u001b[0m     \u001b[1;31m# find out the manipulation steps\u001b[0m\u001b[1;33m\u001b[0m\u001b[1;33m\u001b[0m\u001b[1;33m\u001b[0m\u001b[0m\n",
      "\u001b[1;32mC:\\Python\\Source\\bert\\bert\\wer.py\u001b[0m in \u001b[0;36meditDistance\u001b[1;34m(r, h)\u001b[0m\n\u001b[0;32m     26\u001b[0m             \u001b[1;32melse\u001b[0m\u001b[1;33m:\u001b[0m\u001b[1;33m\u001b[0m\u001b[1;33m\u001b[0m\u001b[0m\n\u001b[0;32m     27\u001b[0m                 \u001b[0msubstitute\u001b[0m \u001b[1;33m=\u001b[0m \u001b[0md\u001b[0m\u001b[1;33m[\u001b[0m\u001b[0mi\u001b[0m\u001b[1;33m-\u001b[0m\u001b[1;36m1\u001b[0m\u001b[1;33m]\u001b[0m\u001b[1;33m[\u001b[0m\u001b[0mj\u001b[0m\u001b[1;33m-\u001b[0m\u001b[1;36m1\u001b[0m\u001b[1;33m]\u001b[0m \u001b[1;33m+\u001b[0m \u001b[1;36m1\u001b[0m\u001b[1;33m\u001b[0m\u001b[1;33m\u001b[0m\u001b[0m\n\u001b[1;32m---> 28\u001b[1;33m                 \u001b[0minsert\u001b[0m \u001b[1;33m=\u001b[0m \u001b[0md\u001b[0m\u001b[1;33m[\u001b[0m\u001b[0mi\u001b[0m\u001b[1;33m]\u001b[0m\u001b[1;33m[\u001b[0m\u001b[0mj\u001b[0m\u001b[1;33m-\u001b[0m\u001b[1;36m1\u001b[0m\u001b[1;33m]\u001b[0m \u001b[1;33m+\u001b[0m \u001b[1;36m1\u001b[0m\u001b[1;33m\u001b[0m\u001b[1;33m\u001b[0m\u001b[0m\n\u001b[0m\u001b[0;32m     29\u001b[0m                 \u001b[0mdelete\u001b[0m \u001b[1;33m=\u001b[0m \u001b[0md\u001b[0m\u001b[1;33m[\u001b[0m\u001b[0mi\u001b[0m\u001b[1;33m-\u001b[0m\u001b[1;36m1\u001b[0m\u001b[1;33m]\u001b[0m\u001b[1;33m[\u001b[0m\u001b[0mj\u001b[0m\u001b[1;33m]\u001b[0m \u001b[1;33m+\u001b[0m \u001b[1;36m1\u001b[0m\u001b[1;33m\u001b[0m\u001b[1;33m\u001b[0m\u001b[0m\n\u001b[0;32m     30\u001b[0m                 \u001b[0md\u001b[0m\u001b[1;33m[\u001b[0m\u001b[0mi\u001b[0m\u001b[1;33m]\u001b[0m\u001b[1;33m[\u001b[0m\u001b[0mj\u001b[0m\u001b[1;33m]\u001b[0m \u001b[1;33m=\u001b[0m \u001b[0mmin\u001b[0m\u001b[1;33m(\u001b[0m\u001b[0msubstitute\u001b[0m\u001b[1;33m,\u001b[0m \u001b[0minsert\u001b[0m\u001b[1;33m,\u001b[0m \u001b[0mdelete\u001b[0m\u001b[1;33m)\u001b[0m\u001b[1;33m\u001b[0m\u001b[1;33m\u001b[0m\u001b[0m\n",
      "\u001b[1;31mKeyboardInterrupt\u001b[0m: "
     ]
    }
   ],
   "source": [
    "k = 0\n",
    "for i in range(len(wer_ref_token)):\n",
    "    k += wer(wer_ref_token[0], wer_hyp_token[0])\n",
    "print(k/len(wer_ref_token))"
   ]
  },
  {
   "cell_type": "code",
   "execution_count": 4,
   "metadata": {},
   "outputs": [],
   "source": [
    "from wer import *\n",
    "\n",
    "test_input = []\n",
    "test_correct = []\n",
    "test_predict = []\n",
    "with open('./output_10Eopochs.txt', 'r', encoding = 'utf8') as f:\n",
    "    for i,line in enumerate(f.readlines()):\n",
    "        if i % 4 == 0:\n",
    "            test_input.append(line.split()[2:])\n",
    "        if i % 4 == 1:\n",
    "            test_predict.append(line.split()[2:-2])\n",
    "        if i % 4 == 2:\n",
    "            test_correct.append(line.split()[3:])\n",
    "        if i % 4 == 3:\n",
    "            continue"
   ]
  },
  {
   "cell_type": "code",
   "execution_count": 5,
   "metadata": {},
   "outputs": [
    {
     "name": "stdout",
     "output_type": "stream",
     "text": [
      "521688.58000000316\n"
     ]
    }
   ],
   "source": [
    "wer_score = 0\n",
    "for i in range(len(test_input)):\n",
    "    wer_score += wer(test_input[i], test_correct[i])\n",
    "print(wer_score)\n",
    "wer_score /= len(test_input)\n",
    "\n",
    "predict_score = 0\n",
    "for i in range(len(test_input)):\n",
    "    predict_score += wer(test_input[i], test_predict[i])\n",
    "predict_score /= len(test_input)\n"
   ]
  },
  {
   "cell_type": "code",
   "execution_count": 6,
   "metadata": {},
   "outputs": [
    {
     "name": "stdout",
     "output_type": "stream",
     "text": [
      "input vs correct : 27.07819889961607%\n",
      "predict vs correcr : 20.988985259005837%\n"
     ]
    }
   ],
   "source": [
    "print('input vs correct : {}%'.format(wer_score))\n",
    "print('predict vs correcr : {}%'.format(predict_score))\n"
   ]
  },
  {
   "cell_type": "code",
   "execution_count": null,
   "metadata": {},
   "outputs": [],
   "source": [
    "print(len(test_input))"
   ]
  },
  {
   "cell_type": "code",
   "execution_count": null,
   "metadata": {},
   "outputs": [],
   "source": []
  }
 ],
 "metadata": {
  "kernelspec": {
   "display_name": "Python 3",
   "language": "python",
   "name": "python3"
  },
  "language_info": {
   "codemirror_mode": {
    "name": "ipython",
    "version": 3
   },
   "file_extension": ".py",
   "mimetype": "text/x-python",
   "name": "python",
   "nbconvert_exporter": "python",
   "pygments_lexer": "ipython3",
   "version": "3.6.8"
  }
 },
 "nbformat": 4,
 "nbformat_minor": 4
}
